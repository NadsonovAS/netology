{
 "cells": [
  {
   "cell_type": "code",
   "execution_count": 1,
   "metadata": {},
   "outputs": [
    {
     "name": "stderr",
     "output_type": "stream",
     "text": [
      "25/04/02 13:38:43 WARN Utils: Your hostname, Mac-mini-Aleksandr.local resolves to a loopback address: 127.0.0.1; using 192.168.1.125 instead (on interface en1)\n",
      "25/04/02 13:38:43 WARN Utils: Set SPARK_LOCAL_IP if you need to bind to another address\n",
      "Setting default log level to \"WARN\".\n",
      "To adjust logging level use sc.setLogLevel(newLevel). For SparkR, use setLogLevel(newLevel).\n",
      "25/04/02 13:38:43 WARN NativeCodeLoader: Unable to load native-hadoop library for your platform... using builtin-java classes where applicable\n"
     ]
    }
   ],
   "source": [
    "from pyspark.sql import SparkSession as sc\n",
    "from pyspark.sql.functions import round, sum, lag\n",
    "from pyspark.sql.window import Window\n",
    "\n",
    "spark = sc.builder.getOrCreate()"
   ]
  },
  {
   "cell_type": "code",
   "execution_count": 2,
   "metadata": {},
   "outputs": [],
   "source": [
    "df = spark.read.csv(\"./covid.csv\", header=True)"
   ]
  },
  {
   "cell_type": "markdown",
   "metadata": {},
   "source": [
    "# Задание 1. \n",
    "Выберите 15 стран с наибольшим процентом переболевших на 31 марта (в выходящем датасете необходимы колонки: iso_code, страна, процент переболевших)"
   ]
  },
  {
   "cell_type": "code",
   "execution_count": 4,
   "metadata": {},
   "outputs": [],
   "source": [
    "df_res_1 = df.select(\n",
    "    df.iso_code,\n",
    "    df.location,\n",
    "    # df.date,\n",
    "    # df.population,\n",
    "    # df.total_cases,\n",
    "    round((df.total_cases / df.population * 100), 3).alias(\"percent\"),\n",
    ").where(df.date == \"2021-03-31\")"
   ]
  },
  {
   "cell_type": "code",
   "execution_count": 5,
   "metadata": {},
   "outputs": [
    {
     "name": "stdout",
     "output_type": "stream",
     "text": [
      "+--------+-------------+-------+\n",
      "|iso_code|     location|percent|\n",
      "+--------+-------------+-------+\n",
      "|     AND|      Andorra| 15.544|\n",
      "|     MNE|   Montenegro| 14.524|\n",
      "|     CZE|      Czechia| 14.309|\n",
      "|     SMR|   San Marino| 13.937|\n",
      "|     SVN|     Slovenia| 10.371|\n",
      "|     LUX|   Luxembourg|  9.847|\n",
      "|     ISR|       Israel|  9.625|\n",
      "|     USA|United States|  9.203|\n",
      "|     SRB|       Serbia|  8.826|\n",
      "|     BHR|      Bahrain|  8.489|\n",
      "|     PAN|       Panama|  8.229|\n",
      "|     PRT|     Portugal|  8.059|\n",
      "|     EST|      Estonia|  8.023|\n",
      "|     SWE|       Sweden|   7.97|\n",
      "|     LTU|    Lithuania|  7.939|\n",
      "+--------+-------------+-------+\n",
      "only showing top 15 rows\n",
      "\n"
     ]
    }
   ],
   "source": [
    "df_res_1.orderBy(df_res_1.percent.desc()).show(15)"
   ]
  },
  {
   "cell_type": "markdown",
   "metadata": {},
   "source": [
    "# Задание 2.  \n",
    "Top 10 стран с максимальным зафиксированным кол-вом новых случаев за последнюю неделю марта 2021 в отсортированном порядке по убыванию\n",
    "(в выходящем датасете необходимы колонки: число, страна, кол-во новых случаев)"
   ]
  },
  {
   "cell_type": "code",
   "execution_count": 6,
   "metadata": {},
   "outputs": [],
   "source": [
    "df_res_2 = df.select(df.date, df.location, df.new_cases).where(\n",
    "    (df.date <= \"2021-03-31\") & (df.date >= \"2021-03-25\") & (df.continent != \"NULL\")\n",
    ")"
   ]
  },
  {
   "cell_type": "code",
   "execution_count": 7,
   "metadata": {},
   "outputs": [],
   "source": [
    "window = Window.partitionBy(df_res_2.location).orderBy(df_res_2.date)"
   ]
  },
  {
   "cell_type": "code",
   "execution_count": 8,
   "metadata": {},
   "outputs": [],
   "source": [
    "df_res_2 = df_res_2.withColumn(\"sum_new_cases\", sum(df_res_2.new_cases).over(window))"
   ]
  },
  {
   "cell_type": "code",
   "execution_count": 9,
   "metadata": {},
   "outputs": [
    {
     "name": "stdout",
     "output_type": "stream",
     "text": [
      "+----------+-------------+-------------+\n",
      "|      date|     location|sum_new_cases|\n",
      "+----------+-------------+-------------+\n",
      "|2021-03-31|       Brazil|     528736.0|\n",
      "|2021-03-31|United States|     448300.0|\n",
      "|2021-03-31|        India|     434131.0|\n",
      "|2021-03-31|       France|     266069.0|\n",
      "|2021-03-31|       Turkey|     225900.0|\n",
      "|2021-03-31|       Poland|     201046.0|\n",
      "|2021-03-31|        Italy|     144037.0|\n",
      "|2021-03-31|      Germany|     120656.0|\n",
      "|2021-03-31|      Ukraine|      95016.0|\n",
      "|2021-03-31|    Argentina|      78944.0|\n",
      "|2021-03-31|         Peru|      67548.0|\n",
      "|2021-03-31|  Philippines|      62977.0|\n",
      "|2021-03-31|         Iran|      62247.0|\n",
      "|2021-03-31|       Russia|      60870.0|\n",
      "|2021-03-31|      Hungary|      58723.0|\n",
      "|2021-03-31|  Netherlands|      54142.0|\n",
      "|2021-03-31|     Colombia|      53167.0|\n",
      "|2021-03-31|        Spain|      50034.0|\n",
      "|2021-03-31|       Jordan|      48720.0|\n",
      "|2021-03-31|        Chile|      47755.0|\n",
      "+----------+-------------+-------------+\n",
      "only showing top 20 rows\n",
      "\n"
     ]
    }
   ],
   "source": [
    "df_res_2.select(df_res_2.date, df_res_2.location, df_res_2.sum_new_cases).where(\n",
    "    df_res_2.date == \"2021-03-31\"\n",
    ").orderBy(df_res_2.sum_new_cases.desc()).show()"
   ]
  },
  {
   "cell_type": "markdown",
   "metadata": {},
   "source": [
    "# Задание 3.\n",
    "Посчитайте изменение случаев относительно предыдущего дня в России за последнюю неделю марта 2021. (например: в россии вчера было 9150 , сегодня 8763, итог: -387) (в выходящем датасете необходимы колонки: число, кол-во новых случаев вчера, кол-во новых случаев сегодня, дельта)"
   ]
  },
  {
   "cell_type": "code",
   "execution_count": 17,
   "metadata": {},
   "outputs": [],
   "source": [
    "df_res_3 = df.select(df.date, df.location, df.new_cases.alias(\"new_cases_today\")).where(\n",
    "    (df.location == \"Russia\") & (df.date.between(\"2021-03-24\", \"2021-03-31\"))\n",
    ")"
   ]
  },
  {
   "cell_type": "code",
   "execution_count": 18,
   "metadata": {},
   "outputs": [],
   "source": [
    "window = Window.partitionBy(df_res_3.location).orderBy(df_res_3.date)"
   ]
  },
  {
   "cell_type": "code",
   "execution_count": 19,
   "metadata": {},
   "outputs": [],
   "source": [
    "df_res_3 = df_res_3.withColumn(\"prev_new_cases\", lag(\"new_cases_today\", 1).over(window))\n",
    "\n",
    "df_res_3 = df_res_3.select(\n",
    "    \"*\", (df_res_3.new_cases_today - df_res_3.prev_new_cases).alias(\"delta\")\n",
    ")"
   ]
  },
  {
   "cell_type": "code",
   "execution_count": 23,
   "metadata": {},
   "outputs": [
    {
     "name": "stdout",
     "output_type": "stream",
     "text": [
      "+----------+--------+---------------+--------------+------+\n",
      "|      date|location|new_cases_today|prev_new_cases| delta|\n",
      "+----------+--------+---------------+--------------+------+\n",
      "|2021-03-25|  Russia|         9128.0|        8769.0| 359.0|\n",
      "|2021-03-26|  Russia|         9073.0|        9128.0| -55.0|\n",
      "|2021-03-27|  Russia|         8783.0|        9073.0|-290.0|\n",
      "|2021-03-28|  Russia|         8979.0|        8783.0| 196.0|\n",
      "|2021-03-29|  Russia|         8589.0|        8979.0|-390.0|\n",
      "|2021-03-30|  Russia|         8162.0|        8589.0|-427.0|\n",
      "|2021-03-31|  Russia|         8156.0|        8162.0|  -6.0|\n",
      "+----------+--------+---------------+--------------+------+\n",
      "\n"
     ]
    }
   ],
   "source": [
    "df_res_3.where(df.date >= '2021-03-25').show()"
   ]
  }
 ],
 "metadata": {
  "kernelspec": {
   "display_name": "base",
   "language": "python",
   "name": "python3"
  },
  "language_info": {
   "codemirror_mode": {
    "name": "ipython",
    "version": 3
   },
   "file_extension": ".py",
   "mimetype": "text/x-python",
   "name": "python",
   "nbconvert_exporter": "python",
   "pygments_lexer": "ipython3",
   "version": "3.12.7"
  }
 },
 "nbformat": 4,
 "nbformat_minor": 2
}
